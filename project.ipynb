{
 "cells": [
  {
   "cell_type": "code",
   "execution_count": 2,
   "id": "99e7b689",
   "metadata": {},
   "outputs": [],
   "source": [
    "import pandas as pd\n",
    "import matplotlib.pyplot as plt\n",
    "import numpy as np\n",
    "import seaborn as sns"
   ]
  },
  {
   "cell_type": "code",
   "execution_count": 3,
   "id": "6de1bebd",
   "metadata": {},
   "outputs": [],
   "source": [
    "data = pd.read_csv(\"cowin.csv\") # data for analysis"
   ]
  },
  {
   "cell_type": "code",
   "execution_count": 4,
   "id": "36167fe7",
   "metadata": {},
   "outputs": [
    {
     "data": {
      "text/plain": [
       "(76832, 59)"
      ]
     },
     "execution_count": 4,
     "metadata": {},
     "output_type": "execute_result"
    }
   ],
   "source": [
    "data.shape"
   ]
  },
  {
   "cell_type": "code",
   "execution_count": 5,
   "id": "bc599bff",
   "metadata": {},
   "outputs": [
    {
     "data": {
      "text/html": [
       "<div>\n",
       "<style scoped>\n",
       "    .dataframe tbody tr th:only-of-type {\n",
       "        vertical-align: middle;\n",
       "    }\n",
       "\n",
       "    .dataframe tbody tr th {\n",
       "        vertical-align: top;\n",
       "    }\n",
       "\n",
       "    .dataframe thead th {\n",
       "        text-align: right;\n",
       "    }\n",
       "</style>\n",
       "<table border=\"1\" class=\"dataframe\">\n",
       "  <thead>\n",
       "    <tr style=\"text-align: right;\">\n",
       "      <th></th>\n",
       "      <th>iso_code</th>\n",
       "      <th>continent</th>\n",
       "      <th>location</th>\n",
       "      <th>date</th>\n",
       "      <th>total_cases</th>\n",
       "      <th>new_cases</th>\n",
       "      <th>new_cases_smoothed</th>\n",
       "      <th>total_deaths</th>\n",
       "      <th>new_deaths</th>\n",
       "      <th>new_deaths_smoothed</th>\n",
       "      <th>...</th>\n",
       "      <th>gdp_per_capita</th>\n",
       "      <th>extreme_poverty</th>\n",
       "      <th>cardiovasc_death_rate</th>\n",
       "      <th>diabetes_prevalence</th>\n",
       "      <th>female_smokers</th>\n",
       "      <th>male_smokers</th>\n",
       "      <th>handwashing_facilities</th>\n",
       "      <th>hospital_beds_per_thousand</th>\n",
       "      <th>life_expectancy</th>\n",
       "      <th>human_development_index</th>\n",
       "    </tr>\n",
       "  </thead>\n",
       "  <tbody>\n",
       "    <tr>\n",
       "      <th>0</th>\n",
       "      <td>AFG</td>\n",
       "      <td>Asia</td>\n",
       "      <td>Afghanistan</td>\n",
       "      <td>2020-02-24</td>\n",
       "      <td>1.0</td>\n",
       "      <td>1.0</td>\n",
       "      <td>NaN</td>\n",
       "      <td>NaN</td>\n",
       "      <td>NaN</td>\n",
       "      <td>NaN</td>\n",
       "      <td>...</td>\n",
       "      <td>1803.987</td>\n",
       "      <td>NaN</td>\n",
       "      <td>597.029</td>\n",
       "      <td>9.59</td>\n",
       "      <td>NaN</td>\n",
       "      <td>NaN</td>\n",
       "      <td>37.746</td>\n",
       "      <td>0.5</td>\n",
       "      <td>64.83</td>\n",
       "      <td>0.511</td>\n",
       "    </tr>\n",
       "    <tr>\n",
       "      <th>1</th>\n",
       "      <td>AFG</td>\n",
       "      <td>Asia</td>\n",
       "      <td>Afghanistan</td>\n",
       "      <td>2020-02-25</td>\n",
       "      <td>1.0</td>\n",
       "      <td>0.0</td>\n",
       "      <td>NaN</td>\n",
       "      <td>NaN</td>\n",
       "      <td>NaN</td>\n",
       "      <td>NaN</td>\n",
       "      <td>...</td>\n",
       "      <td>1803.987</td>\n",
       "      <td>NaN</td>\n",
       "      <td>597.029</td>\n",
       "      <td>9.59</td>\n",
       "      <td>NaN</td>\n",
       "      <td>NaN</td>\n",
       "      <td>37.746</td>\n",
       "      <td>0.5</td>\n",
       "      <td>64.83</td>\n",
       "      <td>0.511</td>\n",
       "    </tr>\n",
       "    <tr>\n",
       "      <th>2</th>\n",
       "      <td>AFG</td>\n",
       "      <td>Asia</td>\n",
       "      <td>Afghanistan</td>\n",
       "      <td>2020-02-26</td>\n",
       "      <td>1.0</td>\n",
       "      <td>0.0</td>\n",
       "      <td>NaN</td>\n",
       "      <td>NaN</td>\n",
       "      <td>NaN</td>\n",
       "      <td>NaN</td>\n",
       "      <td>...</td>\n",
       "      <td>1803.987</td>\n",
       "      <td>NaN</td>\n",
       "      <td>597.029</td>\n",
       "      <td>9.59</td>\n",
       "      <td>NaN</td>\n",
       "      <td>NaN</td>\n",
       "      <td>37.746</td>\n",
       "      <td>0.5</td>\n",
       "      <td>64.83</td>\n",
       "      <td>0.511</td>\n",
       "    </tr>\n",
       "    <tr>\n",
       "      <th>3</th>\n",
       "      <td>AFG</td>\n",
       "      <td>Asia</td>\n",
       "      <td>Afghanistan</td>\n",
       "      <td>2020-02-27</td>\n",
       "      <td>1.0</td>\n",
       "      <td>0.0</td>\n",
       "      <td>NaN</td>\n",
       "      <td>NaN</td>\n",
       "      <td>NaN</td>\n",
       "      <td>NaN</td>\n",
       "      <td>...</td>\n",
       "      <td>1803.987</td>\n",
       "      <td>NaN</td>\n",
       "      <td>597.029</td>\n",
       "      <td>9.59</td>\n",
       "      <td>NaN</td>\n",
       "      <td>NaN</td>\n",
       "      <td>37.746</td>\n",
       "      <td>0.5</td>\n",
       "      <td>64.83</td>\n",
       "      <td>0.511</td>\n",
       "    </tr>\n",
       "    <tr>\n",
       "      <th>4</th>\n",
       "      <td>AFG</td>\n",
       "      <td>Asia</td>\n",
       "      <td>Afghanistan</td>\n",
       "      <td>2020-02-28</td>\n",
       "      <td>1.0</td>\n",
       "      <td>0.0</td>\n",
       "      <td>NaN</td>\n",
       "      <td>NaN</td>\n",
       "      <td>NaN</td>\n",
       "      <td>NaN</td>\n",
       "      <td>...</td>\n",
       "      <td>1803.987</td>\n",
       "      <td>NaN</td>\n",
       "      <td>597.029</td>\n",
       "      <td>9.59</td>\n",
       "      <td>NaN</td>\n",
       "      <td>NaN</td>\n",
       "      <td>37.746</td>\n",
       "      <td>0.5</td>\n",
       "      <td>64.83</td>\n",
       "      <td>0.511</td>\n",
       "    </tr>\n",
       "  </tbody>\n",
       "</table>\n",
       "<p>5 rows × 59 columns</p>\n",
       "</div>"
      ],
      "text/plain": [
       "  iso_code continent     location        date  total_cases  new_cases  \\\n",
       "0      AFG      Asia  Afghanistan  2020-02-24          1.0        1.0   \n",
       "1      AFG      Asia  Afghanistan  2020-02-25          1.0        0.0   \n",
       "2      AFG      Asia  Afghanistan  2020-02-26          1.0        0.0   \n",
       "3      AFG      Asia  Afghanistan  2020-02-27          1.0        0.0   \n",
       "4      AFG      Asia  Afghanistan  2020-02-28          1.0        0.0   \n",
       "\n",
       "   new_cases_smoothed  total_deaths  new_deaths  new_deaths_smoothed  ...  \\\n",
       "0                 NaN           NaN         NaN                  NaN  ...   \n",
       "1                 NaN           NaN         NaN                  NaN  ...   \n",
       "2                 NaN           NaN         NaN                  NaN  ...   \n",
       "3                 NaN           NaN         NaN                  NaN  ...   \n",
       "4                 NaN           NaN         NaN                  NaN  ...   \n",
       "\n",
       "   gdp_per_capita  extreme_poverty  cardiovasc_death_rate  \\\n",
       "0        1803.987              NaN                597.029   \n",
       "1        1803.987              NaN                597.029   \n",
       "2        1803.987              NaN                597.029   \n",
       "3        1803.987              NaN                597.029   \n",
       "4        1803.987              NaN                597.029   \n",
       "\n",
       "   diabetes_prevalence  female_smokers  male_smokers  handwashing_facilities  \\\n",
       "0                 9.59             NaN           NaN                  37.746   \n",
       "1                 9.59             NaN           NaN                  37.746   \n",
       "2                 9.59             NaN           NaN                  37.746   \n",
       "3                 9.59             NaN           NaN                  37.746   \n",
       "4                 9.59             NaN           NaN                  37.746   \n",
       "\n",
       "   hospital_beds_per_thousand  life_expectancy  human_development_index  \n",
       "0                         0.5            64.83                    0.511  \n",
       "1                         0.5            64.83                    0.511  \n",
       "2                         0.5            64.83                    0.511  \n",
       "3                         0.5            64.83                    0.511  \n",
       "4                         0.5            64.83                    0.511  \n",
       "\n",
       "[5 rows x 59 columns]"
      ]
     },
     "execution_count": 5,
     "metadata": {},
     "output_type": "execute_result"
    }
   ],
   "source": [
    "#displaying the data\n",
    "data.head()"
   ]
  },
  {
   "cell_type": "code",
   "execution_count": 6,
   "id": "a2a1a86e",
   "metadata": {},
   "outputs": [
    {
     "data": {
      "text/plain": [
       "Index(['iso_code', 'continent', 'location', 'date', 'total_cases', 'new_cases',\n",
       "       'new_cases_smoothed', 'total_deaths', 'new_deaths',\n",
       "       'new_deaths_smoothed', 'total_cases_per_million',\n",
       "       'new_cases_per_million', 'new_cases_smoothed_per_million',\n",
       "       'total_deaths_per_million', 'new_deaths_per_million',\n",
       "       'new_deaths_smoothed_per_million', 'reproduction_rate', 'icu_patients',\n",
       "       'icu_patients_per_million', 'hosp_patients',\n",
       "       'hosp_patients_per_million', 'weekly_icu_admissions',\n",
       "       'weekly_icu_admissions_per_million', 'weekly_hosp_admissions',\n",
       "       'weekly_hosp_admissions_per_million', 'new_tests', 'total_tests',\n",
       "       'total_tests_per_thousand', 'new_tests_per_thousand',\n",
       "       'new_tests_smoothed', 'new_tests_smoothed_per_thousand',\n",
       "       'positive_rate', 'tests_per_case', 'tests_units', 'total_vaccinations',\n",
       "       'people_vaccinated', 'people_fully_vaccinated', 'new_vaccinations',\n",
       "       'new_vaccinations_smoothed', 'total_vaccinations_per_hundred',\n",
       "       'people_vaccinated_per_hundred', 'people_fully_vaccinated_per_hundred',\n",
       "       'new_vaccinations_smoothed_per_million', 'stringency_index',\n",
       "       'population', 'population_density', 'median_age', 'aged_65_older',\n",
       "       'aged_70_older', 'gdp_per_capita', 'extreme_poverty',\n",
       "       'cardiovasc_death_rate', 'diabetes_prevalence', 'female_smokers',\n",
       "       'male_smokers', 'handwashing_facilities', 'hospital_beds_per_thousand',\n",
       "       'life_expectancy', 'human_development_index'],\n",
       "      dtype='object')"
      ]
     },
     "execution_count": 6,
     "metadata": {},
     "output_type": "execute_result"
    }
   ],
   "source": [
    "data.columns #printing the columns of the data"
   ]
  },
  {
   "cell_type": "code",
   "execution_count": 7,
   "id": "5077bbad",
   "metadata": {},
   "outputs": [
    {
     "data": {
      "text/plain": [
       "0        2020-02-24\n",
       "1        2020-02-25\n",
       "2        2020-02-26\n",
       "3        2020-02-27\n",
       "4        2020-02-28\n",
       "            ...    \n",
       "76827    2021-03-19\n",
       "76828    2021-03-20\n",
       "76829    2021-03-21\n",
       "76830    2021-03-22\n",
       "76831    2021-03-23\n",
       "Name: date, Length: 76832, dtype: object"
      ]
     },
     "execution_count": 7,
     "metadata": {},
     "output_type": "execute_result"
    }
   ],
   "source": [
    "data.date #check total length of date"
   ]
  },
  {
   "cell_type": "code",
   "execution_count": 8,
   "id": "b41bea28",
   "metadata": {},
   "outputs": [],
   "source": [
    "date_uni = data.date.unique() #printing the Unique dates"
   ]
  },
  {
   "cell_type": "code",
   "execution_count": 9,
   "id": "9409e783",
   "metadata": {},
   "outputs": [
    {
     "data": {
      "text/plain": [
       "array(['2020-02-24', '2020-02-25', '2020-02-26', '2020-02-27',\n",
       "       '2020-02-28', '2020-02-29', '2020-03-01', '2020-03-02',\n",
       "       '2020-03-03', '2020-03-04', '2020-03-05', '2020-03-06',\n",
       "       '2020-03-07', '2020-03-08', '2020-03-09', '2020-03-10',\n",
       "       '2020-03-11', '2020-03-12', '2020-03-13', '2020-03-14',\n",
       "       '2020-03-15', '2020-03-16', '2020-03-17', '2020-03-18',\n",
       "       '2020-03-19', '2020-03-20', '2020-03-21', '2020-03-22',\n",
       "       '2020-03-23', '2020-03-24', '2020-03-25', '2020-03-26',\n",
       "       '2020-03-27', '2020-03-28', '2020-03-29', '2020-03-30',\n",
       "       '2020-03-31', '2020-04-01', '2020-04-02', '2020-04-03',\n",
       "       '2020-04-04', '2020-04-05', '2020-04-06', '2020-04-07',\n",
       "       '2020-04-08', '2020-04-09', '2020-04-10', '2020-04-11',\n",
       "       '2020-04-12', '2020-04-13', '2020-04-14', '2020-04-15',\n",
       "       '2020-04-16', '2020-04-17', '2020-04-18', '2020-04-19',\n",
       "       '2020-04-20', '2020-04-21', '2020-04-22', '2020-04-23',\n",
       "       '2020-04-24', '2020-04-25', '2020-04-26', '2020-04-27',\n",
       "       '2020-04-28', '2020-04-29', '2020-04-30', '2020-05-01',\n",
       "       '2020-05-02', '2020-05-03', '2020-05-04', '2020-05-05',\n",
       "       '2020-05-06', '2020-05-07', '2020-05-08', '2020-05-09',\n",
       "       '2020-05-10', '2020-05-11', '2020-05-12', '2020-05-13',\n",
       "       '2020-05-14', '2020-05-15', '2020-05-16', '2020-05-17',\n",
       "       '2020-05-18', '2020-05-19', '2020-05-20', '2020-05-21',\n",
       "       '2020-05-22', '2020-05-23', '2020-05-24', '2020-05-25',\n",
       "       '2020-05-26', '2020-05-27', '2020-05-28', '2020-05-29',\n",
       "       '2020-05-30', '2020-05-31', '2020-06-01', '2020-06-02',\n",
       "       '2020-06-03', '2020-06-04', '2020-06-05', '2020-06-06',\n",
       "       '2020-06-07', '2020-06-08', '2020-06-09', '2020-06-10',\n",
       "       '2020-06-11', '2020-06-12', '2020-06-13', '2020-06-14',\n",
       "       '2020-06-15', '2020-06-16', '2020-06-17', '2020-06-18',\n",
       "       '2020-06-19', '2020-06-20', '2020-06-21', '2020-06-22',\n",
       "       '2020-06-23', '2020-06-24', '2020-06-25', '2020-06-26',\n",
       "       '2020-06-27', '2020-06-28', '2020-06-29', '2020-06-30',\n",
       "       '2020-07-01', '2020-07-02', '2020-07-03', '2020-07-04',\n",
       "       '2020-07-05', '2020-07-06', '2020-07-07', '2020-07-08',\n",
       "       '2020-07-09', '2020-07-10', '2020-07-11', '2020-07-12',\n",
       "       '2020-07-13', '2020-07-14', '2020-07-15', '2020-07-16',\n",
       "       '2020-07-17', '2020-07-18', '2020-07-19', '2020-07-20',\n",
       "       '2020-07-21', '2020-07-22', '2020-07-23', '2020-07-24',\n",
       "       '2020-07-25', '2020-07-26', '2020-07-27', '2020-07-28',\n",
       "       '2020-07-29', '2020-07-30', '2020-07-31', '2020-08-01',\n",
       "       '2020-08-02', '2020-08-03', '2020-08-04', '2020-08-05',\n",
       "       '2020-08-06', '2020-08-07', '2020-08-08', '2020-08-09',\n",
       "       '2020-08-10', '2020-08-11', '2020-08-12', '2020-08-13',\n",
       "       '2020-08-14', '2020-08-15', '2020-08-16', '2020-08-17',\n",
       "       '2020-08-18', '2020-08-19', '2020-08-20', '2020-08-21',\n",
       "       '2020-08-22', '2020-08-23', '2020-08-24', '2020-08-25',\n",
       "       '2020-08-26', '2020-08-27', '2020-08-28', '2020-08-29',\n",
       "       '2020-08-30', '2020-08-31', '2020-09-01', '2020-09-02',\n",
       "       '2020-09-03', '2020-09-04', '2020-09-05', '2020-09-06',\n",
       "       '2020-09-07', '2020-09-08', '2020-09-09', '2020-09-10',\n",
       "       '2020-09-11', '2020-09-12', '2020-09-13', '2020-09-14',\n",
       "       '2020-09-15', '2020-09-16', '2020-09-17', '2020-09-18',\n",
       "       '2020-09-19', '2020-09-20', '2020-09-21', '2020-09-22',\n",
       "       '2020-09-23', '2020-09-24', '2020-09-25', '2020-09-26',\n",
       "       '2020-09-27', '2020-09-28', '2020-09-29', '2020-09-30',\n",
       "       '2020-10-01', '2020-10-02', '2020-10-03', '2020-10-04',\n",
       "       '2020-10-05', '2020-10-06', '2020-10-07', '2020-10-08',\n",
       "       '2020-10-09', '2020-10-10', '2020-10-11', '2020-10-12',\n",
       "       '2020-10-13', '2020-10-14', '2020-10-15', '2020-10-16',\n",
       "       '2020-10-17', '2020-10-18', '2020-10-19', '2020-10-20',\n",
       "       '2020-10-21', '2020-10-22', '2020-10-23', '2020-10-24',\n",
       "       '2020-10-25', '2020-10-26', '2020-10-27', '2020-10-28',\n",
       "       '2020-10-29', '2020-10-30', '2020-10-31', '2020-11-01',\n",
       "       '2020-11-02', '2020-11-03', '2020-11-04', '2020-11-05',\n",
       "       '2020-11-06', '2020-11-07', '2020-11-08', '2020-11-09',\n",
       "       '2020-11-10', '2020-11-11', '2020-11-12', '2020-11-13',\n",
       "       '2020-11-14', '2020-11-15', '2020-11-16', '2020-11-17',\n",
       "       '2020-11-18', '2020-11-19', '2020-11-20', '2020-11-21',\n",
       "       '2020-11-22', '2020-11-23', '2020-11-24', '2020-11-25',\n",
       "       '2020-11-26', '2020-11-27', '2020-11-28', '2020-11-29',\n",
       "       '2020-11-30', '2020-12-01', '2020-12-02', '2020-12-03',\n",
       "       '2020-12-04', '2020-12-05', '2020-12-06', '2020-12-07',\n",
       "       '2020-12-08', '2020-12-09', '2020-12-10', '2020-12-11',\n",
       "       '2020-12-12', '2020-12-13', '2020-12-14', '2020-12-15',\n",
       "       '2020-12-16', '2020-12-17', '2020-12-18', '2020-12-19',\n",
       "       '2020-12-20', '2020-12-21', '2020-12-22', '2020-12-23',\n",
       "       '2020-12-24', '2020-12-25', '2020-12-26', '2020-12-27',\n",
       "       '2020-12-28', '2020-12-29', '2020-12-30', '2020-12-31',\n",
       "       '2021-01-01', '2021-01-02', '2021-01-03', '2021-01-04',\n",
       "       '2021-01-05', '2021-01-06', '2021-01-07', '2021-01-08',\n",
       "       '2021-01-09', '2021-01-10', '2021-01-11', '2021-01-12',\n",
       "       '2021-01-13', '2021-01-14', '2021-01-15', '2021-01-16',\n",
       "       '2021-01-17', '2021-01-18', '2021-01-19', '2021-01-20',\n",
       "       '2021-01-21', '2021-01-22', '2021-01-23', '2021-01-24',\n",
       "       '2021-01-25', '2021-01-26', '2021-01-27', '2021-01-28',\n",
       "       '2021-01-29', '2021-01-30', '2021-01-31', '2021-02-01',\n",
       "       '2021-02-02', '2021-02-03', '2021-02-04', '2021-02-05',\n",
       "       '2021-02-06', '2021-02-07', '2021-02-08', '2021-02-09',\n",
       "       '2021-02-10', '2021-02-11', '2021-02-12', '2021-02-13',\n",
       "       '2021-02-14', '2021-02-15', '2021-02-16', '2021-02-17',\n",
       "       '2021-02-18', '2021-02-19', '2021-02-20', '2021-02-21',\n",
       "       '2021-02-22', '2021-02-23', '2021-02-24', '2021-02-25',\n",
       "       '2021-02-26', '2021-02-27', '2021-02-28', '2021-03-01',\n",
       "       '2021-03-02', '2021-03-03', '2021-03-04', '2021-03-05',\n",
       "       '2021-03-06', '2021-03-07', '2021-03-08', '2021-03-09',\n",
       "       '2021-03-10', '2021-03-11', '2021-03-12', '2021-03-13',\n",
       "       '2021-03-14', '2021-03-15', '2021-03-16', '2021-03-17',\n",
       "       '2021-03-18', '2021-03-19', '2021-03-20', '2021-03-21',\n",
       "       '2021-03-22', '2021-03-23', '2020-02-13', '2020-02-14',\n",
       "       '2020-02-15', '2020-02-16', '2020-02-17', '2020-02-18',\n",
       "       '2020-02-19', '2020-02-20', '2020-02-21', '2020-02-22',\n",
       "       '2020-02-23', '2020-01-01', '2020-01-02', '2020-01-03',\n",
       "       '2020-01-04', '2020-01-05', '2020-01-06', '2020-01-07',\n",
       "       '2020-01-08', '2020-01-09', '2020-01-10', '2020-01-11',\n",
       "       '2020-01-12', '2020-01-13', '2020-01-14', '2020-01-15',\n",
       "       '2020-01-16', '2020-01-17', '2020-01-18', '2020-01-19',\n",
       "       '2020-01-20', '2020-01-21', '2020-01-22', '2020-01-23',\n",
       "       '2020-01-24', '2020-01-25', '2020-01-26', '2020-01-27',\n",
       "       '2020-01-28', '2020-01-29', '2020-01-30', '2020-01-31',\n",
       "       '2020-02-01', '2020-02-02', '2020-02-03', '2020-02-04',\n",
       "       '2020-02-05', '2020-02-06', '2020-02-07', '2020-02-08',\n",
       "       '2020-02-09', '2020-02-10', '2020-02-11', '2020-02-12'],\n",
       "      dtype=object)"
      ]
     },
     "execution_count": 9,
     "metadata": {},
     "output_type": "execute_result"
    }
   ],
   "source": [
    "date_uni"
   ]
  },
  {
   "cell_type": "code",
   "execution_count": 10,
   "id": "56581bec",
   "metadata": {},
   "outputs": [
    {
     "data": {
      "text/plain": [
       "448"
      ]
     },
     "execution_count": 10,
     "metadata": {},
     "output_type": "execute_result"
    }
   ],
   "source": [
    "len(np.unique(date_uni)) #total length of Unique date"
   ]
  },
  {
   "cell_type": "code",
   "execution_count": 48,
   "id": "213a5851",
   "metadata": {},
   "outputs": [
    {
     "data": {
      "text/plain": [
       "0        AFG\n",
       "1        AFG\n",
       "2        AFG\n",
       "3        AFG\n",
       "4        AFG\n",
       "        ... \n",
       "76827    ZWE\n",
       "76828    ZWE\n",
       "76829    ZWE\n",
       "76830    ZWE\n",
       "76831    ZWE\n",
       "Name: iso_code, Length: 76832, dtype: object"
      ]
     },
     "execution_count": 48,
     "metadata": {},
     "output_type": "execute_result"
    }
   ],
   "source": [
    "data.iso_code"
   ]
  },
  {
   "cell_type": "code",
   "execution_count": 49,
   "id": "f35d5166",
   "metadata": {},
   "outputs": [
    {
     "data": {
      "text/plain": [
       "array(['AFG', 'OWID_AFR', 'ALB', 'DZA', 'AND', 'AGO', 'AIA', 'ATG', 'ARG',\n",
       "       'ARM', 'OWID_ASI', 'AUS', 'AUT', 'AZE', 'BHS', 'BHR', 'BGD', 'BRB',\n",
       "       'BLR', 'BEL', 'BLZ', 'BEN', 'BMU', 'BTN', 'BOL', 'BIH', 'BWA',\n",
       "       'BRA', 'BRN', 'BGR', 'BFA', 'BDI', 'KHM', 'CMR', 'CAN', 'CPV',\n",
       "       'CYM', 'CAF', 'TCD', 'CHL', 'CHN', 'COL', 'COM', 'COG', 'CRI',\n",
       "       'CIV', 'HRV', 'CUB', 'CYP', 'CZE', 'COD', 'DNK', 'DJI', 'DMA',\n",
       "       'DOM', 'ECU', 'EGY', 'SLV', 'GNQ', 'ERI', 'EST', 'SWZ', 'ETH',\n",
       "       'OWID_EUR', 'OWID_EUN', 'FRO', 'FLK', 'FJI', 'FIN', 'FRA', 'GAB',\n",
       "       'GMB', 'GEO', 'DEU', 'GHA', 'GIB', 'GRC', 'GRL', 'GRD', 'GTM',\n",
       "       'GGY', 'GIN', 'GNB', 'GUY', 'HTI', 'HND', 'HKG', 'HUN', 'ISL',\n",
       "       'IND', 'IDN', 'OWID_INT', 'IRN', 'IRQ', 'IRL', 'IMN', 'ISR', 'ITA',\n",
       "       'JAM', 'JPN', 'JEY', 'JOR', 'KAZ', 'KEN', 'OWID_KOS', 'KWT', 'KGZ',\n",
       "       'LAO', 'LVA', 'LBN', 'LSO', 'LBR', 'LBY', 'LIE', 'LTU', 'LUX',\n",
       "       'MAC', 'MDG', 'MWI', 'MYS', 'MDV', 'MLI', 'MLT', 'MHL', 'MRT',\n",
       "       'MUS', 'MEX', 'FSM', 'MDA', 'MCO', 'MNG', 'MNE', 'MSR', 'MAR',\n",
       "       'MOZ', 'MMR', 'NAM', 'NPL', 'NLD', 'NZL', 'NIC', 'NER', 'NGA',\n",
       "       'OWID_NAM', 'MKD', 'OWID_CYN', 'NOR', 'OWID_OCE', 'OMN', 'PAK',\n",
       "       'PSE', 'PAN', 'PNG', 'PRY', 'PER', 'PHL', 'POL', 'PRT', 'QAT',\n",
       "       'ROU', 'RUS', 'RWA', 'SHN', 'KNA', 'LCA', 'VCT', 'WSM', 'SMR',\n",
       "       'STP', 'SAU', 'SEN', 'SRB', 'SYC', 'SLE', 'SGP', 'SVK', 'SVN',\n",
       "       'SLB', 'SOM', 'ZAF', 'OWID_SAM', 'KOR', 'SSD', 'ESP', 'LKA', 'SDN',\n",
       "       'SUR', 'SWE', 'CHE', 'SYR', 'TWN', 'TJK', 'TZA', 'THA', 'TLS',\n",
       "       'TGO', 'TTO', 'TUN', 'TUR', 'TCA', 'UGA', 'UKR', 'ARE', 'GBR',\n",
       "       'USA', 'URY', 'UZB', 'VUT', 'VAT', 'VEN', 'VNM', 'OWID_WRL', 'YEM',\n",
       "       'ZMB', 'ZWE'], dtype=object)"
      ]
     },
     "execution_count": 49,
     "metadata": {},
     "output_type": "execute_result"
    }
   ],
   "source": [
    "data.iso_code.unique() # printing the unique countries"
   ]
  },
  {
   "cell_type": "code",
   "execution_count": 50,
   "id": "b24d69b2",
   "metadata": {},
   "outputs": [
    {
     "data": {
      "text/plain": [
       "215"
      ]
     },
     "execution_count": 50,
     "metadata": {},
     "output_type": "execute_result"
    }
   ],
   "source": [
    "len(np.unique(data.iso_code)) # total length of unique country"
   ]
  },
  {
   "cell_type": "code",
   "execution_count": 51,
   "id": "4dabfffa",
   "metadata": {},
   "outputs": [
    {
     "data": {
      "text/plain": [
       "Int64Index([  394,   395,   396,   397,   398,   399,   400,   401,   402,\n",
       "              403,\n",
       "            ...\n",
       "            75734, 75735, 75736, 75737, 75738, 75739, 75740, 75741, 75742,\n",
       "            75743],\n",
       "           dtype='int64', length=4153)"
      ]
     },
     "execution_count": 51,
     "metadata": {},
     "output_type": "execute_result"
    }
   ],
   "source": [
    "data[data[\"iso_code\"].str.contains(\"OWID_\")].index"
   ]
  },
  {
   "cell_type": "code",
   "execution_count": 11,
   "id": "e96bb585",
   "metadata": {},
   "outputs": [],
   "source": [
    "rows_cowid = data[data[\"iso_code\"].str.contains(\"OWID_\")].index  # selecting the rows which contains \"OWID\" in \"iso_code\""
   ]
  },
  {
   "cell_type": "code",
   "execution_count": 12,
   "id": "2637f308",
   "metadata": {},
   "outputs": [],
   "source": [
    "#removing all the rows which contains the string OWID_ in the column 'iso_code'\n",
    "data.drop(rows_cowid, inplace = True)"
   ]
  },
  {
   "cell_type": "code",
   "execution_count": 13,
   "id": "1925076d",
   "metadata": {},
   "outputs": [
    {
     "data": {
      "text/plain": [
       "array(['AFG', 'ALB', 'DZA', 'AND', 'AGO', 'AIA', 'ATG', 'ARG', 'ARM',\n",
       "       'AUS', 'AUT', 'AZE', 'BHS', 'BHR', 'BGD', 'BRB', 'BLR', 'BEL',\n",
       "       'BLZ', 'BEN', 'BMU', 'BTN', 'BOL', 'BIH', 'BWA', 'BRA', 'BRN',\n",
       "       'BGR', 'BFA', 'BDI', 'KHM', 'CMR', 'CAN', 'CPV', 'CYM', 'CAF',\n",
       "       'TCD', 'CHL', 'CHN', 'COL', 'COM', 'COG', 'CRI', 'CIV', 'HRV',\n",
       "       'CUB', 'CYP', 'CZE', 'COD', 'DNK', 'DJI', 'DMA', 'DOM', 'ECU',\n",
       "       'EGY', 'SLV', 'GNQ', 'ERI', 'EST', 'SWZ', 'ETH', 'FRO', 'FLK',\n",
       "       'FJI', 'FIN', 'FRA', 'GAB', 'GMB', 'GEO', 'DEU', 'GHA', 'GIB',\n",
       "       'GRC', 'GRL', 'GRD', 'GTM', 'GGY', 'GIN', 'GNB', 'GUY', 'HTI',\n",
       "       'HND', 'HKG', 'HUN', 'ISL', 'IND', 'IDN', 'IRN', 'IRQ', 'IRL',\n",
       "       'IMN', 'ISR', 'ITA', 'JAM', 'JPN', 'JEY', 'JOR', 'KAZ', 'KEN',\n",
       "       'KWT', 'KGZ', 'LAO', 'LVA', 'LBN', 'LSO', 'LBR', 'LBY', 'LIE',\n",
       "       'LTU', 'LUX', 'MAC', 'MDG', 'MWI', 'MYS', 'MDV', 'MLI', 'MLT',\n",
       "       'MHL', 'MRT', 'MUS', 'MEX', 'FSM', 'MDA', 'MCO', 'MNG', 'MNE',\n",
       "       'MSR', 'MAR', 'MOZ', 'MMR', 'NAM', 'NPL', 'NLD', 'NZL', 'NIC',\n",
       "       'NER', 'NGA', 'MKD', 'NOR', 'OMN', 'PAK', 'PSE', 'PAN', 'PNG',\n",
       "       'PRY', 'PER', 'PHL', 'POL', 'PRT', 'QAT', 'ROU', 'RUS', 'RWA',\n",
       "       'SHN', 'KNA', 'LCA', 'VCT', 'WSM', 'SMR', 'STP', 'SAU', 'SEN',\n",
       "       'SRB', 'SYC', 'SLE', 'SGP', 'SVK', 'SVN', 'SLB', 'SOM', 'ZAF',\n",
       "       'KOR', 'SSD', 'ESP', 'LKA', 'SDN', 'SUR', 'SWE', 'CHE', 'SYR',\n",
       "       'TWN', 'TJK', 'TZA', 'THA', 'TLS', 'TGO', 'TTO', 'TUN', 'TUR',\n",
       "       'TCA', 'UGA', 'UKR', 'ARE', 'GBR', 'USA', 'URY', 'UZB', 'VUT',\n",
       "       'VAT', 'VEN', 'VNM', 'YEM', 'ZMB', 'ZWE'], dtype=object)"
      ]
     },
     "execution_count": 13,
     "metadata": {},
     "output_type": "execute_result"
    }
   ],
   "source": [
    "data.iso_code.unique() # after Dropping"
   ]
  },
  {
   "cell_type": "code",
   "execution_count": 14,
   "id": "cdbec740",
   "metadata": {},
   "outputs": [],
   "source": [
    "data.reset_index(inplace = True)"
   ]
  },
  {
   "cell_type": "code",
   "execution_count": 15,
   "id": "3a9ed491",
   "metadata": {},
   "outputs": [
    {
     "data": {
      "text/plain": [
       "204"
      ]
     },
     "execution_count": 15,
     "metadata": {},
     "output_type": "execute_result"
    }
   ],
   "source": [
    "len(np.unique(data.iso_code)) # length of Unique iso_code after dropping"
   ]
  },
  {
   "cell_type": "code",
   "execution_count": 16,
   "id": "6e63513a",
   "metadata": {},
   "outputs": [
    {
     "data": {
      "text/plain": [
       "'2020-01-01'"
      ]
     },
     "execution_count": 16,
     "metadata": {},
     "output_type": "execute_result"
    }
   ],
   "source": [
    "data.date.min() #earliest date in data frame"
   ]
  },
  {
   "cell_type": "code",
   "execution_count": 17,
   "id": "5a5d1f4c",
   "metadata": {},
   "outputs": [
    {
     "data": {
      "text/plain": [
       "0    0.026\n",
       "1    0.026\n",
       "2    0.026\n",
       "3    0.026\n",
       "4    0.026\n",
       "Name: total_cases_per_million, dtype: float64"
      ]
     },
     "execution_count": 17,
     "metadata": {},
     "output_type": "execute_result"
    }
   ],
   "source": [
    "#checking the column total_cases_per_million\n",
    "data.total_cases_per_million.head()"
   ]
  },
  {
   "cell_type": "code",
   "execution_count": 84,
   "id": "02b5466c",
   "metadata": {},
   "outputs": [],
   "source": [
    "data[\"total_cases_per_100\"] = data[\"total_cases_per_million\"]  # create a new column"
   ]
  },
  {
   "cell_type": "code",
   "execution_count": 85,
   "id": "f83641be",
   "metadata": {
    "scrolled": true
   },
   "outputs": [
    {
     "data": {
      "text/plain": [
       "0           0.026\n",
       "1           0.026\n",
       "2           0.026\n",
       "3           0.026\n",
       "4           0.026\n",
       "           ...   \n",
       "76827    2466.001\n",
       "76828    2466.674\n",
       "76829    2466.876\n",
       "76830    2468.154\n",
       "76831    2470.375\n",
       "Name: total_cases_per_100, Length: 76832, dtype: float64"
      ]
     },
     "execution_count": 85,
     "metadata": {},
     "output_type": "execute_result"
    }
   ],
   "source": [
    "data.total_cases_per_100"
   ]
  },
  {
   "cell_type": "code",
   "execution_count": 86,
   "id": "8179022c",
   "metadata": {},
   "outputs": [],
   "source": [
    " data[\"DaysSince1Jan20\"] = data[\"date\"] # new column created using DaysSinceJan20"
   ]
  },
  {
   "cell_type": "code",
   "execution_count": 87,
   "id": "5633b60a",
   "metadata": {},
   "outputs": [
    {
     "data": {
      "text/plain": [
       "0        2020-02-24\n",
       "1        2020-02-25\n",
       "2        2020-02-26\n",
       "3        2020-02-27\n",
       "4        2020-02-28\n",
       "            ...    \n",
       "76827    2021-03-19\n",
       "76828    2021-03-20\n",
       "76829    2021-03-21\n",
       "76830    2021-03-22\n",
       "76831    2021-03-23\n",
       "Name: date, Length: 76832, dtype: object"
      ]
     },
     "execution_count": 87,
     "metadata": {},
     "output_type": "execute_result"
    }
   ],
   "source": [
    "data.date"
   ]
  },
  {
   "cell_type": "markdown",
   "id": "074d07b9",
   "metadata": {},
   "source": [
    "#### The new data frame should contain one value for each country for the following columns (and it only has these columns): 'iso_code', 'female_smokers', 'male_smokers'. Make ‘iso_code’ the index of ‘df_country’"
   ]
  },
  {
   "cell_type": "code",
   "execution_count": 88,
   "id": "b8108bed",
   "metadata": {},
   "outputs": [],
   "source": [
    "df_country = data[['female_smokers','male_smokers','iso_code']].set_index('iso_code') # New dataframe \"df_country\""
   ]
  },
  {
   "cell_type": "code",
   "execution_count": 89,
   "id": "7d1c58cc",
   "metadata": {},
   "outputs": [
    {
     "data": {
      "text/html": [
       "<div>\n",
       "<style scoped>\n",
       "    .dataframe tbody tr th:only-of-type {\n",
       "        vertical-align: middle;\n",
       "    }\n",
       "\n",
       "    .dataframe tbody tr th {\n",
       "        vertical-align: top;\n",
       "    }\n",
       "\n",
       "    .dataframe thead th {\n",
       "        text-align: right;\n",
       "    }\n",
       "</style>\n",
       "<table border=\"1\" class=\"dataframe\">\n",
       "  <thead>\n",
       "    <tr style=\"text-align: right;\">\n",
       "      <th></th>\n",
       "      <th>female_smokers</th>\n",
       "      <th>male_smokers</th>\n",
       "    </tr>\n",
       "    <tr>\n",
       "      <th>iso_code</th>\n",
       "      <th></th>\n",
       "      <th></th>\n",
       "    </tr>\n",
       "  </thead>\n",
       "  <tbody>\n",
       "    <tr>\n",
       "      <th>AFG</th>\n",
       "      <td>NaN</td>\n",
       "      <td>NaN</td>\n",
       "    </tr>\n",
       "    <tr>\n",
       "      <th>AFG</th>\n",
       "      <td>NaN</td>\n",
       "      <td>NaN</td>\n",
       "    </tr>\n",
       "    <tr>\n",
       "      <th>AFG</th>\n",
       "      <td>NaN</td>\n",
       "      <td>NaN</td>\n",
       "    </tr>\n",
       "    <tr>\n",
       "      <th>AFG</th>\n",
       "      <td>NaN</td>\n",
       "      <td>NaN</td>\n",
       "    </tr>\n",
       "    <tr>\n",
       "      <th>AFG</th>\n",
       "      <td>NaN</td>\n",
       "      <td>NaN</td>\n",
       "    </tr>\n",
       "  </tbody>\n",
       "</table>\n",
       "</div>"
      ],
      "text/plain": [
       "          female_smokers  male_smokers\n",
       "iso_code                              \n",
       "AFG                  NaN           NaN\n",
       "AFG                  NaN           NaN\n",
       "AFG                  NaN           NaN\n",
       "AFG                  NaN           NaN\n",
       "AFG                  NaN           NaN"
      ]
     },
     "execution_count": 89,
     "metadata": {},
     "output_type": "execute_result"
    }
   ],
   "source": [
    "# three column and each row represents one country\n",
    "df_country.head()"
   ]
  },
  {
   "cell_type": "code",
   "execution_count": 90,
   "id": "a037857c",
   "metadata": {},
   "outputs": [
    {
     "data": {
      "text/plain": [
       "<seaborn.axisgrid.FacetGrid at 0x574e9a0>"
      ]
     },
     "execution_count": 90,
     "metadata": {},
     "output_type": "execute_result"
    },
    {
     "data": {
      "image/png": "[encoded data removed]",
      "text/plain": [
       "<Figure size 360x360 with 1 Axes>"
      ]
     },
     "metadata": {
      "needs_background": "light"
     },
     "output_type": "display_data"
    }
   ],
   "source": [
    "sns.relplot(x=\"male_smokers\",y=\"female_smokers\", data=df_country)"
   ]
  },
  {
   "cell_type": "markdown",
   "id": "c9393797",
   "metadata": {},
   "source": [
    "#### Create a new data frame ‘df_GBR’ that contains data only for the UK (using iso_code= GBR; should be 418 rows)."
   ]
  },
  {
   "cell_type": "code",
   "execution_count": 91,
   "id": "5ce90cf9",
   "metadata": {},
   "outputs": [],
   "source": [
    "df_GBR = data[data['iso_code'] == 'GBR']"
   ]
  },
  {
   "cell_type": "code",
   "execution_count": 92,
   "id": "6e708d22",
   "metadata": {},
   "outputs": [
    {
     "data": {
      "text/plain": [
       "(418, 62)"
      ]
     },
     "execution_count": 92,
     "metadata": {},
     "output_type": "execute_result"
    }
   ],
   "source": [
    "df_GBR.shape"
   ]
  },
  {
   "cell_type": "markdown",
   "id": "a9dc121f",
   "metadata": {},
   "source": [
    "#### In ‘df_GBR’, create a new column ‘total_cases_per_million_smoothed’, which contains the moving average of the column ‘total_cases_per_million’, with a window size of 5 i.e., moving average of row x is calculated from rows x-2, x-1, x, x+1, and x+2. For x=1 and x=2, the moving average is calculated using three and four rows, respectively (same for the last two rows)."
   ]
  },
  {
   "cell_type": "code",
   "execution_count": 93,
   "id": "1ad1e240",
   "metadata": {},
   "outputs": [
    {
     "name": "stderr",
     "output_type": "stream",
     "text": [
      "<ipython-input-93-69778362bce9>:1: SettingWithCopyWarning: \n",
      "A value is trying to be set on a copy of a slice from a DataFrame.\n",
      "Try using .loc[row_indexer,col_indexer] = value instead\n",
      "\n",
      "See the caveats in the documentation: https://pandas.pydata.org/pandas-docs/stable/user_guide/indexing.html#returning-a-view-versus-a-copy\n",
      "  df_GBR['total_cases_per_million_smoothed'] = df_GBR['total_cases_per_million'].rolling(window=5).mean()\n"
     ]
    }
   ],
   "source": [
    "df_GBR['total_cases_per_million_smoothed'] = df_GBR['total_cases_per_million'].rolling(window=5).mean()"
   ]
  },
  {
   "cell_type": "code",
   "execution_count": 94,
   "id": "b077837f",
   "metadata": {},
   "outputs": [
    {
     "data": {
      "text/html": [
       "<div>\n",
       "<style scoped>\n",
       "    .dataframe tbody tr th:only-of-type {\n",
       "        vertical-align: middle;\n",
       "    }\n",
       "\n",
       "    .dataframe tbody tr th {\n",
       "        vertical-align: top;\n",
       "    }\n",
       "\n",
       "    .dataframe thead th {\n",
       "        text-align: right;\n",
       "    }\n",
       "</style>\n",
       "<table border=\"1\" class=\"dataframe\">\n",
       "  <thead>\n",
       "    <tr style=\"text-align: right;\">\n",
       "      <th></th>\n",
       "      <th>total_cases_per_million_smoothed</th>\n",
       "      <th>total_cases_per_million</th>\n",
       "    </tr>\n",
       "  </thead>\n",
       "  <tbody>\n",
       "    <tr>\n",
       "      <th>72404</th>\n",
       "      <td>NaN</td>\n",
       "      <td>0.029</td>\n",
       "    </tr>\n",
       "    <tr>\n",
       "      <th>72405</th>\n",
       "      <td>NaN</td>\n",
       "      <td>0.029</td>\n",
       "    </tr>\n",
       "    <tr>\n",
       "      <th>72406</th>\n",
       "      <td>NaN</td>\n",
       "      <td>0.029</td>\n",
       "    </tr>\n",
       "    <tr>\n",
       "      <th>72407</th>\n",
       "      <td>NaN</td>\n",
       "      <td>0.118</td>\n",
       "    </tr>\n",
       "    <tr>\n",
       "      <th>72408</th>\n",
       "      <td>0.0646</td>\n",
       "      <td>0.118</td>\n",
       "    </tr>\n",
       "    <tr>\n",
       "      <th>...</th>\n",
       "      <td>...</td>\n",
       "      <td>...</td>\n",
       "    </tr>\n",
       "    <tr>\n",
       "      <th>72817</th>\n",
       "      <td>63166.3840</td>\n",
       "      <td>63329.696</td>\n",
       "    </tr>\n",
       "    <tr>\n",
       "      <th>72818</th>\n",
       "      <td>63248.8724</td>\n",
       "      <td>63412.762</td>\n",
       "    </tr>\n",
       "    <tr>\n",
       "      <th>72819</th>\n",
       "      <td>63331.3402</td>\n",
       "      <td>63491.659</td>\n",
       "    </tr>\n",
       "    <tr>\n",
       "      <th>72820</th>\n",
       "      <td>63412.6706</td>\n",
       "      <td>63571.307</td>\n",
       "    </tr>\n",
       "    <tr>\n",
       "      <th>72821</th>\n",
       "      <td>63491.3054</td>\n",
       "      <td>63651.103</td>\n",
       "    </tr>\n",
       "  </tbody>\n",
       "</table>\n",
       "<p>418 rows × 2 columns</p>\n",
       "</div>"
      ],
      "text/plain": [
       "       total_cases_per_million_smoothed  total_cases_per_million\n",
       "72404                               NaN                    0.029\n",
       "72405                               NaN                    0.029\n",
       "72406                               NaN                    0.029\n",
       "72407                               NaN                    0.118\n",
       "72408                            0.0646                    0.118\n",
       "...                                 ...                      ...\n",
       "72817                        63166.3840                63329.696\n",
       "72818                        63248.8724                63412.762\n",
       "72819                        63331.3402                63491.659\n",
       "72820                        63412.6706                63571.307\n",
       "72821                        63491.3054                63651.103\n",
       "\n",
       "[418 rows x 2 columns]"
      ]
     },
     "execution_count": 94,
     "metadata": {},
     "output_type": "execute_result"
    }
   ],
   "source": [
    "df_GBR[['total_cases_per_million_smoothed','total_cases_per_million']]"
   ]
  },
  {
   "cell_type": "markdown",
   "id": "9f8cfdd9",
   "metadata": {},
   "source": [
    "#### plotting the graph of dashed lines of \"new_cases_smoothed_per_million\" for Countries IND,USA and GBR"
   ]
  },
  {
   "cell_type": "code",
   "execution_count": 95,
   "id": "2c2e738b",
   "metadata": {},
   "outputs": [
    {
     "data": {
      "text/plain": [
       "<matplotlib.legend.Legend at 0x8ea1160>"
      ]
     },
     "execution_count": 95,
     "metadata": {},
     "output_type": "execute_result"
    },
    {
     "data": {
      "image/png": "[encoded data removed]",
      "text/plain": [
       "<Figure size 432x288 with 1 Axes>"
      ]
     },
     "metadata": {
      "needs_background": "light"
     },
     "output_type": "display_data"
    }
   ],
   "source": [
    "plt.plot('DaysSince1Jan20', 'new_cases_smoothed_per_million', data=data[data['iso_code'] == 'GBR'], color='black', linewidth=1, linestyle = '--')\n",
    "plt.plot('DaysSince1Jan20', 'new_cases_smoothed_per_million', data=data[data['iso_code'] == 'IND'], color='green', linewidth=1, linestyle = '--')\n",
    "plt.plot('DaysSince1Jan20', 'new_cases_smoothed_per_million', data=data[data['iso_code'] == 'USA'], color='red', linewidth=1, linestyle = '--')\n",
    "plt.legend(loc='upper left', frameon =True)"
   ]
  },
  {
   "cell_type": "markdown",
   "id": "c5593671",
   "metadata": {},
   "source": [
    "#### plotting the graph of solid lines of \"total_cases_per_million\" for Countries IND , USA and GBR"
   ]
  },
  {
   "cell_type": "code",
   "execution_count": 96,
   "id": "fc3c482e",
   "metadata": {},
   "outputs": [
    {
     "data": {
      "text/plain": [
       "<matplotlib.legend.Legend at 0x12ddfee0>"
      ]
     },
     "execution_count": 96,
     "metadata": {},
     "output_type": "execute_result"
    },
    {
     "data": {
      "image/png": "[encoded data removed]",
      "text/plain": [
       "<Figure size 432x288 with 1 Axes>"
      ]
     },
     "metadata": {
      "needs_background": "light"
     },
     "output_type": "display_data"
    }
   ],
   "source": [
    "plt.plot('DaysSince1Jan20', 'total_cases_per_million', data=data[data['iso_code'] == 'GBR'], color='black', linewidth=1, linestyle = '-')\n",
    "plt.plot('DaysSince1Jan20', 'total_cases_per_million', data=data[data['iso_code'] == 'IND'], color='green', linewidth=1, linestyle = '-')\n",
    "plt.plot('DaysSince1Jan20', 'total_cases_per_million', data=data[data['iso_code'] == 'USA'], color='red', linewidth=1, linestyle = '-')\n",
    "plt.legend(loc='upper left', frameon =True)"
   ]
  },
  {
   "cell_type": "code",
   "execution_count": 97,
   "id": "24c7ce6d",
   "metadata": {},
   "outputs": [
    {
     "data": {
      "text/plain": [
       "<seaborn.axisgrid.FacetGrid at 0x1596cc40>"
      ]
     },
     "execution_count": 97,
     "metadata": {},
     "output_type": "execute_result"
    },
    {
     "data": {
      "image/png": "[encoded data removed]",
      "text/plain": [
       "<Figure size 360x360 with 1 Axes>"
      ]
     },
     "metadata": {
      "needs_background": "light"
     },
     "output_type": "display_data"
    }
   ],
   "source": [
    "sns.catplot(x=\"continent\", y=\"people_fully_vaccinated\", data=data)"
   ]
  },
  {
   "cell_type": "code",
   "execution_count": 98,
   "id": "aab818e6",
   "metadata": {},
   "outputs": [
    {
     "data": {
      "text/plain": [
       "<AxesSubplot:xlabel='continent', ylabel='human_development_index'>"
      ]
     },
     "execution_count": 98,
     "metadata": {},
     "output_type": "execute_result"
    },
    {
     "data": {
      "image/png": "[encoded data removed]",
      "text/plain": [
       "<Figure size 432x288 with 1 Axes>"
      ]
     },
     "metadata": {
      "needs_background": "light"
     },
     "output_type": "display_data"
    }
   ],
   "source": [
    "sns.scatterplot(x=\"continent\", y=\"human_development_index\",data=data)"
   ]
  },
  {
   "cell_type": "code",
   "execution_count": null,
   "id": "4324cfb5",
   "metadata": {},
   "outputs": [],
   "source": []
  }
 ],
 "metadata": {
  "kernelspec": {
   "display_name": "Python 3",
   "language": "python",
   "name": "python3"
  },
  "language_info": {
   "codemirror_mode": {
    "name": "ipython",
    "version": 3
   },
   "file_extension": ".py",
   "mimetype": "text/x-python",
   "name": "python",
   "nbconvert_exporter": "python",
   "pygments_lexer": "ipython3",
   "version": "3.8.8"
  }
 },
 "nbformat": 4,
 "nbformat_minor": 5
}
